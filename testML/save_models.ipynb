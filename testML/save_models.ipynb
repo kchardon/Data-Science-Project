{
 "cells": [
  {
   "cell_type": "code",
   "execution_count": 1,
   "metadata": {},
   "outputs": [
    {
     "name": "stderr",
     "output_type": "stream",
     "text": [
      "C:\\Users\\katio\\AppData\\Local\\Programs\\Python\\Python37\\lib\\site-packages\\numpy\\lib\\arraysetops.py:580: FutureWarning: elementwise comparison failed; returning scalar instead, but in the future will perform elementwise comparison\n",
      "  mask |= (ar1 == a)\n"
     ]
    },
    {
     "name": "stdout",
     "output_type": "stream",
     "text": [
      "Iteration 1, loss = 0.38370019\n",
      "Iteration 2, loss = 0.37967763\n",
      "Iteration 3, loss = 0.37940008\n",
      "Iteration 4, loss = 0.37911775\n",
      "Iteration 5, loss = 0.37891462\n",
      "Iteration 6, loss = 0.37888864\n",
      "Iteration 7, loss = 0.37872543\n",
      "Iteration 8, loss = 0.37855066\n",
      "Iteration 9, loss = 0.37832264\n",
      "Iteration 10, loss = 0.37817167\n",
      "Iteration 11, loss = 0.37816951\n",
      "Iteration 12, loss = 0.37792041\n",
      "Iteration 13, loss = 0.37782194\n",
      "Iteration 14, loss = 0.37767853\n",
      "Iteration 15, loss = 0.37757939\n",
      "Iteration 16, loss = 0.37750758\n",
      "Iteration 17, loss = 0.37738842\n",
      "Iteration 18, loss = 0.37730688\n",
      "Iteration 19, loss = 0.37717926\n",
      "Iteration 20, loss = 0.37713944\n",
      "Iteration 21, loss = 0.37704321\n",
      "Iteration 22, loss = 0.37695464\n",
      "Iteration 23, loss = 0.37693352\n",
      "Iteration 24, loss = 0.37687282\n",
      "Iteration 25, loss = 0.37677045\n",
      "Iteration 26, loss = 0.37663458\n",
      "Iteration 27, loss = 0.37660387\n",
      "Iteration 28, loss = 0.37646633\n",
      "Iteration 29, loss = 0.37633009\n",
      "Iteration 30, loss = 0.37631511\n",
      "Iteration 31, loss = 0.37619991\n",
      "Iteration 32, loss = 0.37610667\n",
      "Iteration 33, loss = 0.37602364\n",
      "Iteration 34, loss = 0.37571106\n",
      "Iteration 35, loss = 0.37563125\n",
      "Iteration 36, loss = 0.37557132\n",
      "Iteration 37, loss = 0.37554803\n",
      "Iteration 38, loss = 0.37547649\n",
      "Iteration 39, loss = 0.37542160\n",
      "Iteration 40, loss = 0.37538788\n",
      "Iteration 41, loss = 0.37534171\n",
      "Iteration 42, loss = 0.37530489\n",
      "Iteration 43, loss = 0.37523784\n",
      "Iteration 44, loss = 0.37530625\n",
      "Iteration 45, loss = 0.37523253\n",
      "Training loss did not improve more than tol=0.000100 for 10 consecutive epochs. Stopping.\n"
     ]
    },
    {
     "name": "stderr",
     "output_type": "stream",
     "text": [
      "C:\\Users\\katio\\AppData\\Local\\Programs\\Python\\Python37\\lib\\site-packages\\numpy\\lib\\arraysetops.py:580: FutureWarning: elementwise comparison failed; returning scalar instead, but in the future will perform elementwise comparison\n",
      "  mask |= (ar1 == a)\n"
     ]
    },
    {
     "name": "stdout",
     "output_type": "stream",
     "text": [
      "Iteration 1, loss = 0.42230011\n",
      "Iteration 2, loss = 0.41776641\n",
      "Iteration 3, loss = 0.41704592\n",
      "Iteration 4, loss = 0.41648477\n",
      "Iteration 5, loss = 0.41620532\n",
      "Iteration 6, loss = 0.41599050\n",
      "Iteration 7, loss = 0.41582099\n",
      "Iteration 8, loss = 0.41562929\n",
      "Iteration 9, loss = 0.41530630\n",
      "Iteration 10, loss = 0.41509455\n",
      "Iteration 11, loss = 0.41471565\n",
      "Iteration 12, loss = 0.41437482\n",
      "Iteration 13, loss = 0.41346993\n",
      "Iteration 14, loss = 0.41309088\n",
      "Iteration 15, loss = 0.41275099\n",
      "Iteration 16, loss = 0.41223904\n",
      "Iteration 17, loss = 0.41197131\n",
      "Iteration 18, loss = 0.41142260\n",
      "Iteration 19, loss = 0.41093504\n",
      "Iteration 20, loss = 0.41059311\n",
      "Iteration 21, loss = 0.41029447\n",
      "Iteration 22, loss = 0.41005886\n",
      "Iteration 23, loss = 0.40988580\n",
      "Iteration 24, loss = 0.40976478\n",
      "Iteration 25, loss = 0.40950757\n",
      "Iteration 26, loss = 0.40949886\n",
      "Iteration 27, loss = 0.40943232\n",
      "Iteration 28, loss = 0.40932464\n",
      "Iteration 29, loss = 0.40922411\n",
      "Iteration 30, loss = 0.40906492\n",
      "Iteration 31, loss = 0.40902612\n",
      "Iteration 32, loss = 0.40882230\n",
      "Iteration 33, loss = 0.40878993\n",
      "Iteration 34, loss = 0.40837412\n",
      "Iteration 35, loss = 0.40835293\n",
      "Iteration 36, loss = 0.40820769\n",
      "Iteration 37, loss = 0.40815367\n",
      "Iteration 38, loss = 0.40813230\n",
      "Iteration 39, loss = 0.40798836\n",
      "Iteration 40, loss = 0.40796660\n",
      "Iteration 41, loss = 0.40786312\n",
      "Iteration 42, loss = 0.40779746\n",
      "Iteration 43, loss = 0.40774918\n",
      "Iteration 44, loss = 0.40776514\n",
      "Iteration 45, loss = 0.40767970\n",
      "Iteration 46, loss = 0.40780793\n",
      "Iteration 47, loss = 0.40767625\n",
      "Iteration 48, loss = 0.40762375\n",
      "Iteration 49, loss = 0.40760282\n",
      "Iteration 50, loss = 0.40756297\n",
      "Iteration 51, loss = 0.40753311\n",
      "Iteration 52, loss = 0.40762594\n",
      "Training loss did not improve more than tol=0.000100 for 10 consecutive epochs. Stopping.\n"
     ]
    },
    {
     "data": {
      "text/plain": [
       "\"\\nTo load the model and predict :\\nmodel = pickle.load(open('model.pkl','rb'))\\nprint(model.predict([[1.8]]))\\n\""
      ]
     },
     "execution_count": 1,
     "metadata": {},
     "output_type": "execute_result"
    }
   ],
   "source": [
    "import pandas as pd\n",
    "from sklearn.neural_network import MLPRegressor\n",
    "import pickle\n",
    "\n",
    "bike_departures = pd.read_csv(\"final_departures_data.csv\",header=0,index_col=0)\n",
    "\n",
    "X = bike_departures[['id','time','day_of_week','day_of_year','Cloud amount (1/8)','Relative humidity (%)','Precipitation intensity (mm/h)','Air temperature (degC)','Wind speed (m/s)']].values.reshape(-1, 9)\n",
    "y = bike_departures['departures'].values.reshape(-1, 1).ravel()\n",
    "\n",
    "model = MLPRegressor(verbose=True,activation='logistic',hidden_layer_sizes=(30,30,30),random_state=3)\n",
    "model.fit(X,y)\n",
    "pickle.dump(model, open('model_departures.pkl','wb'))\n",
    "\n",
    "'''\n",
    "To load the model and predict :\n",
    "model = pickle.load(open('model.pkl','rb'))\n",
    "print(model.predict([[1.8]]))\n",
    "'''"
   ]
  },
  {
   "cell_type": "code",
   "execution_count": 2,
   "metadata": {},
   "outputs": [
    {
     "name": "stderr",
     "output_type": "stream",
     "text": [
      "C:\\Users\\katio\\AppData\\Local\\Programs\\Python\\Python37\\lib\\site-packages\\numpy\\lib\\arraysetops.py:580: FutureWarning: elementwise comparison failed; returning scalar instead, but in the future will perform elementwise comparison\n",
      "  mask |= (ar1 == a)\n"
     ]
    },
    {
     "name": "stdout",
     "output_type": "stream",
     "text": [
      "Iteration 1, loss = 0.36653180\n",
      "Iteration 2, loss = 0.36214085\n",
      "Iteration 3, loss = 0.36156666\n",
      "Iteration 4, loss = 0.36120701\n",
      "Iteration 5, loss = 0.36091486\n",
      "Iteration 6, loss = 0.36073998\n",
      "Iteration 7, loss = 0.36052168\n",
      "Iteration 8, loss = 0.36029786\n",
      "Iteration 9, loss = 0.36008980\n",
      "Iteration 10, loss = 0.35989185\n",
      "Iteration 11, loss = 0.35974355\n",
      "Iteration 12, loss = 0.35949717\n",
      "Iteration 13, loss = 0.35918455\n",
      "Iteration 14, loss = 0.35868991\n",
      "Iteration 15, loss = 0.35817323\n",
      "Iteration 16, loss = 0.35755414\n",
      "Iteration 17, loss = 0.35699464\n",
      "Iteration 18, loss = 0.35653338\n",
      "Iteration 19, loss = 0.35581532\n",
      "Iteration 20, loss = 0.35526458\n",
      "Iteration 21, loss = 0.35474980\n",
      "Iteration 22, loss = 0.35442489\n",
      "Iteration 23, loss = 0.35409951\n",
      "Iteration 24, loss = 0.35330734\n",
      "Iteration 25, loss = 0.35286395\n",
      "Iteration 26, loss = 0.35227585\n",
      "Iteration 27, loss = 0.35177530\n",
      "Iteration 28, loss = 0.35146538\n",
      "Iteration 29, loss = 0.35116994\n",
      "Iteration 30, loss = 0.35112868\n",
      "Iteration 31, loss = 0.35093087\n",
      "Iteration 32, loss = 0.35091486\n",
      "Iteration 33, loss = 0.35074731\n",
      "Iteration 34, loss = 0.35067348\n",
      "Iteration 35, loss = 0.35424762\n",
      "Iteration 36, loss = 0.35343308\n",
      "Iteration 37, loss = 0.35310212\n",
      "Iteration 38, loss = 0.35263839\n",
      "Iteration 39, loss = 0.35185094\n",
      "Iteration 40, loss = 0.35133172\n",
      "Iteration 41, loss = 0.35108535\n",
      "Iteration 42, loss = 0.35106170\n",
      "Iteration 43, loss = 0.35101155\n",
      "Iteration 44, loss = 0.35088351\n",
      "Training loss did not improve more than tol=0.000100 for 10 consecutive epochs. Stopping.\n"
     ]
    }
   ],
   "source": [
    "import pandas as pd\n",
    "from sklearn.neural_network import MLPRegressor\n",
    "import pickle\n",
    "\n",
    "bike_arrivals = pd.read_csv(\"final_arrivals_data.csv\",header=0,index_col=0)\n",
    "\n",
    "X = bike_arrivals[['id','time','day_of_week','day_of_year','Cloud amount (1/8)','Relative humidity (%)','Precipitation intensity (mm/h)','Air temperature (degC)','Wind speed (m/s)']].values.reshape(-1, 9)\n",
    "y = bike_arrivals['arrivals'].values.reshape(-1, 1).ravel()\n",
    "\n",
    "model = MLPRegressor(verbose=True,activation='logistic',hidden_layer_sizes=(30,30,30),random_state=3)\n",
    "model.fit(X,y)\n",
    "pickle.dump(model, open('model_arrivals.pkl','wb'))"
   ]
  }
 ],
 "metadata": {
  "interpreter": {
   "hash": "504d2066713d4c62b5cef0b0e33045341869b20348e2e9ebbcb94216e063f385"
  },
  "kernelspec": {
   "display_name": "Python 3.7.4 64-bit",
   "name": "python3"
  },
  "language_info": {
   "codemirror_mode": {
    "name": "ipython",
    "version": 3
   },
   "file_extension": ".py",
   "mimetype": "text/x-python",
   "name": "python",
   "nbconvert_exporter": "python",
   "pygments_lexer": "ipython3",
   "version": "3.7.4"
  },
  "orig_nbformat": 4
 },
 "nbformat": 4,
 "nbformat_minor": 2
}
